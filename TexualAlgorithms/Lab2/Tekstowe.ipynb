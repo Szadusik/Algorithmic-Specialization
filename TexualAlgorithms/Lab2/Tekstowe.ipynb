{
 "cells": [
  {
   "cell_type": "markdown",
   "metadata": {},
   "source": [
    "# Algorytmy Tekstowe - Lab2 - Łukasz Sochacki"
   ]
  },
  {
   "cell_type": "markdown",
   "metadata": {},
   "source": [
    "## Zadanie 1"
   ]
  },
  {
   "cell_type": "code",
   "execution_count": 3,
   "metadata": {},
   "outputs": [],
   "source": [
    "teststrings = [\"bbbd\", \"aabbabd\", \"ababcd\", \"abcbccd\"] #Testowe dane"
   ]
  },
  {
   "cell_type": "code",
   "execution_count": 4,
   "metadata": {},
   "outputs": [],
   "source": [
    "with open('1997_714_head.txt', 'r', encoding='utf-8') as f:\n",
    "    data = f.read()"
   ]
  },
  {
   "cell_type": "code",
   "execution_count": 5,
   "metadata": {},
   "outputs": [
    {
     "data": {
      "text/plain": [
       "'\\n\\n\\n\\nDz.U. z 1998 r. Nr 144, poz. 930\\n                                       \\n                                       \\n                                       \\n                                       \\n                                    USTAWA\\n                          z dnia 20 listopada 1998 r.\\n                                       \\n         o zryczałtowanym podatku dochodowym od niektórych przychodów\\n                        osiąganych przez osoby fizyczne\\n                                       \\n                                  Rozdział 1\\n                                Przepisy ogólne\\n                                       \\n                                    Art. 1.\\nUstawa reguluje opodatkowanie zryczałtowanym podatkiem dochodowym niektórych\\nprzychodów (dochodów) osiąganych przez osoby fizyczne prowadzące pozarolniczą\\ndziałalność gospodarczą oraz przez osoby duchowne.\\n                                       \\n                                    Art. 2.\\n1. Osoby fizyczne osiągające przychody z pozarolniczej działalności\\n  gospodarczej opłacają zryczałtowany podatek dochodowy w formie:\\n   1) ryczałtu od przychodów ewidencjonowanych,\\n   2) karty podatkowej.\\n2. Osoby duchowne, prawnie uznanych wyznań, opłacają zryczałtowany podatek\\n  dochodowy od przychodów osób duchownych.\\n3. Wpływy z podatku dochodowego opłacanego w formie ryczałtu od przychodów\\n  ewidencjonowanych oraz zryczałtowanego podatku dochodowego od przychodów\\n  osób duchownych stanowią dochód budżetu państwa.\\n4. Wpływy z karty podatkowej stanowią dochody gmin.\\n                                       \\n                                    Art. 3.\\nPrzychodów (dochodów) opodatkowanych w formach zryczałtowanych nie łączy się z\\nprzychodami (dochodami) z innych źródeł podlegającymi opodatkowaniu na\\npodstawie ustawy z dnia 26 lipca 1991 r. o podatku dochodowym od osób\\nfizycznych (Dz. U. z 1993 r. Nr 90, poz. 416 i Nr 134, poz. 646, z 1994 r. Nr\\n43, poz. 163, Nr 90, poz. 419, Nr 113, poz. 547, Nr 123, poz. 602 i Nr 126,\\npoz. 626, z 1995 r. Nr 5, poz. 25 i Nr 133, poz. 654, z 1996 r. Nr 25, poz.\\n113, Nr 87, poz. 395, Nr 137, poz. 638, Nr 147, poz. 686 i Nr 156, poz. 776, z\\n1997 r. Nr 28, poz. 153, Nr 30, poz. 164, Nr 71, poz. 449, Nr 85, poz. 538, Nr\\n96, poz. 592, Nr 121, poz. 770, Nr 123, poz. 776, Nr 137, poz. 926, Nr 139,\\npoz. 932-934 i Nr 141, poz. 943 i 945 oraz z 1998 r. Nr 66, poz. 430, Nr 74,\\npoz. 471, Nr 108, poz. 685 i Nr 117, poz. 756), zwanej dalej \"ustawą o podatku\\ndochodowym\".\\n'"
      ]
     },
     "execution_count": 5,
     "metadata": {},
     "output_type": "execute_result"
    }
   ],
   "source": [
    "data #Dane zaladowane z pliku"
   ]
  },
  {
   "cell_type": "markdown",
   "metadata": {},
   "source": [
    "## Zadanie 2"
   ]
  },
  {
   "cell_type": "code",
   "execution_count": 6,
   "metadata": {},
   "outputs": [],
   "source": [
    "def uniqueSign(text): #Funkcja okreslajaca, czy dany tekst konczy sie na unikalnym znaku. Jesli nie, to dodaje taki, by zapewnic unikalnosc\n",
    "    letters = set()\n",
    "    n = len(text)\n",
    "    for i in range(n-1):\n",
    "        letters.add(text[i])\n",
    "\n",
    "    if not text[n-1] in letters:\n",
    "        return text\n",
    "    else:\n",
    "        return text + '\\0'\n"
   ]
  },
  {
   "cell_type": "markdown",
   "metadata": {},
   "source": [
    "## Zadanie 3"
   ]
  },
  {
   "cell_type": "code",
   "execution_count": 7,
   "metadata": {},
   "outputs": [],
   "source": [
    "from queue import LifoQueue"
   ]
  },
  {
   "cell_type": "code",
   "execution_count": 8,
   "metadata": {},
   "outputs": [],
   "source": [
    "class Node:\n",
    "\n",
    "    def __init__(self):\n",
    "        self.letter = None\n",
    "        self.parent = None\n",
    "        self.link = None\n",
    "        self.children = dict()\n",
    "        self.depth = 0\n",
    "        \n",
    "    def graft(self, text, sibling=None):\n",
    "        for current_letter in text:\n",
    "            if current_letter not in self.children:\n",
    "                self.children[current_letter] = Node()\n",
    "            self = self.children[current_letter]\n",
    "            if sibling:\n",
    "                sibling = sibling.children[current_letter]\n",
    "                sibling.link = self\n",
    "        return self\n",
    "    \n",
    "    def hasItem(self, item):\n",
    "        if isinstance(item, str):\n",
    "            while item != \"\":\n",
    "                if item[0] in self.children.keys():\n",
    "                    self, item = self.children[item[0]], item[1:]\n",
    "                else:\n",
    "                    return False\n",
    "            return True\n",
    "        return False\n",
    "    "
   ]
  },
  {
   "cell_type": "code",
   "execution_count": 9,
   "metadata": {},
   "outputs": [],
   "source": [
    "class Trie:\n",
    "    def __init__(self, text):\n",
    "        self.root = Node()\n",
    "        leaf = self.root.graft(text)\n",
    "        self.root.children[text[0]].link = self.root\n",
    "        for i in range(len(text)):\n",
    "            if i == 0:\n",
    "                continue\n",
    "            else:\n",
    "                (head, sibling) = self.up_link_down(leaf)\n",
    "                if not head:\n",
    "                    head = self.root\n",
    "                    sibling = head.children[text[i - 1]]\n",
    "                    sibling.link = head\n",
    "                leaf = head.graft(text[(i + head.depth):], sibling)\n",
    "                \n",
    "    @staticmethod\n",
    "    def up_link_down(sibling: Node):  \n",
    "        letters = LifoQueue()\n",
    "        while sibling and not sibling.link:\n",
    "            letters.put(sibling.letter)\n",
    "            sibling = sibling.parent\n",
    "        if not sibling:\n",
    "            return None, None\n",
    "        node = sibling.link\n",
    "        while not letters.empty():\n",
    "            current_letter = letters.get()\n",
    "            if current_letter in node.children.keys():\n",
    "                node = node.children[current_letter]\n",
    "                sibling = sibling.children[current_letter]\n",
    "                sibling.link = node\n",
    "            else:\n",
    "                break\n",
    "        return node, sibling\n",
    "    \n",
    "    def hasItem(self, item):\n",
    "        if isinstance(item, str):\n",
    "            if self.root.hasItem(item):\n",
    "                return True\n",
    "            else:\n",
    "                return False\n",
    "        return False"
   ]
  },
  {
   "cell_type": "markdown",
   "metadata": {},
   "source": [
    "# Zadanie 5"
   ]
  },
  {
   "cell_type": "code",
   "execution_count": 10,
   "metadata": {},
   "outputs": [],
   "source": [
    "def isCorrect(algorithm, text): #Funkcja sprawdzajaca, czy struktura jest poprawnie utworzona\n",
    "    for i in range(len(text)):\n",
    "        if not algorithm.hasItem(text[i:]):\n",
    "            return False\n",
    "    return True"
   ]
  },
  {
   "cell_type": "code",
   "execution_count": 11,
   "metadata": {},
   "outputs": [
    {
     "data": {
      "text/plain": [
       "True"
      ]
     },
     "execution_count": 11,
     "metadata": {},
     "output_type": "execute_result"
    }
   ],
   "source": [
    "isCorrect(Trie(teststrings[0]),teststrings[0])"
   ]
  },
  {
   "cell_type": "code",
   "execution_count": 12,
   "metadata": {},
   "outputs": [
    {
     "data": {
      "text/plain": [
       "True"
      ]
     },
     "execution_count": 12,
     "metadata": {},
     "output_type": "execute_result"
    }
   ],
   "source": [
    "isCorrect(Trie(teststrings[1]),teststrings[1])"
   ]
  },
  {
   "cell_type": "code",
   "execution_count": 13,
   "metadata": {},
   "outputs": [
    {
     "data": {
      "text/plain": [
       "True"
      ]
     },
     "execution_count": 13,
     "metadata": {},
     "output_type": "execute_result"
    }
   ],
   "source": [
    "isCorrect(Trie(teststrings[2]),teststrings[2])"
   ]
  },
  {
   "cell_type": "code",
   "execution_count": 14,
   "metadata": {},
   "outputs": [
    {
     "data": {
      "text/plain": [
       "True"
      ]
     },
     "execution_count": 14,
     "metadata": {},
     "output_type": "execute_result"
    }
   ],
   "source": [
    "isCorrect(Trie(teststrings[3]),teststrings[3])"
   ]
  },
  {
   "cell_type": "code",
   "execution_count": 15,
   "metadata": {},
   "outputs": [
    {
     "data": {
      "text/plain": [
       "True"
      ]
     },
     "execution_count": 15,
     "metadata": {},
     "output_type": "execute_result"
    }
   ],
   "source": [
    "data = uniqueSign(data)\n",
    "isCorrect(Trie(data),data)"
   ]
  },
  {
   "cell_type": "markdown",
   "metadata": {},
   "source": [
    "# Zadanie 6/7"
   ]
  },
  {
   "cell_type": "code",
   "execution_count": 16,
   "metadata": {},
   "outputs": [],
   "source": [
    "import time"
   ]
  },
  {
   "cell_type": "code",
   "execution_count": 17,
   "metadata": {},
   "outputs": [],
   "source": [
    "def getTime(algorithm, text): #Funkcja do mierzenia czasów\n",
    "    start = time.time()\n",
    "    algorithm(text)\n",
    "    end = time.time()\n",
    "    return end - start"
   ]
  },
  {
   "cell_type": "code",
   "execution_count": 30,
   "metadata": {},
   "outputs": [
    {
     "name": "stdout",
     "output_type": "stream",
     "text": [
      "0.0010051727294921875 s\n"
     ]
    }
   ],
   "source": [
    "print(str(getTime(Trie, teststrings[0])) + ' s')"
   ]
  },
  {
   "cell_type": "code",
   "execution_count": 40,
   "metadata": {},
   "outputs": [
    {
     "name": "stdout",
     "output_type": "stream",
     "text": [
      "0.00099945068359375 s\n"
     ]
    }
   ],
   "source": [
    "print(str(getTime(Trie, teststrings[1])) + ' s') "
   ]
  },
  {
   "cell_type": "code",
   "execution_count": 42,
   "metadata": {},
   "outputs": [
    {
     "name": "stdout",
     "output_type": "stream",
     "text": [
      "0.0010027885437011719 s\n"
     ]
    }
   ],
   "source": [
    "print(str(getTime(Trie, teststrings[2])) + ' s')"
   ]
  },
  {
   "cell_type": "code",
   "execution_count": 41,
   "metadata": {},
   "outputs": [
    {
     "name": "stdout",
     "output_type": "stream",
     "text": [
      "0.0010285377502441406 s\n"
     ]
    }
   ],
   "source": [
    "print(str(getTime(Trie, teststrings[3])) + ' s')"
   ]
  },
  {
   "cell_type": "code",
   "execution_count": 45,
   "metadata": {},
   "outputs": [
    {
     "name": "stdout",
     "output_type": "stream",
     "text": [
      "9.011034727096558 s\n"
     ]
    }
   ],
   "source": [
    "print(str(getTime(Trie, data)) + ' s')"
   ]
  },
  {
   "cell_type": "code",
   "execution_count": null,
   "metadata": {},
   "outputs": [],
   "source": []
  }
 ],
 "metadata": {
  "kernelspec": {
   "display_name": "Python 3",
   "language": "python",
   "name": "python3"
  },
  "language_info": {
   "codemirror_mode": {
    "name": "ipython",
    "version": 3
   },
   "file_extension": ".py",
   "mimetype": "text/x-python",
   "name": "python",
   "nbconvert_exporter": "python",
   "pygments_lexer": "ipython3",
   "version": "3.8.3"
  }
 },
 "nbformat": 4,
 "nbformat_minor": 4
}
